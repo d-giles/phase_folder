{
 "cells": [
  {
   "cell_type": "code",
   "execution_count": 1,
   "id": "08f6b267-c9d5-4ead-8c3c-544a89f5287a",
   "metadata": {},
   "outputs": [],
   "source": [
    "import lightkurve as lk\n",
    "import pandas as pd\n",
    "import phasefolder\n",
    "import os\n",
    "\n",
    "%load_ext autoreload\n",
    "%autoreload 2"
   ]
  },
  {
   "cell_type": "code",
   "execution_count": 23,
   "id": "c6c734ab-774e-425b-b9f2-e50a87f54493",
   "metadata": {
    "tags": []
   },
   "outputs": [],
   "source": [
    "def csv_to_lc(file):\n",
    "    lcdata = pd.read_csv(file)\n",
    "    lc = lk.LightCurve(time=lcdata.time, \n",
    "                       flux=lcdata.flux,\n",
    "                       flux_err=lcdata.flux_err,\n",
    "                       quality=lcdata.quality,\n",
    "                       label=file.split(\"/\")[-1].split(\".csv\")[0])\n",
    "    return lc"
   ]
  },
  {
   "cell_type": "code",
   "execution_count": 24,
   "id": "0d1dc0c7-dec4-40e2-9179-37ee001e7e3e",
   "metadata": {
    "tags": []
   },
   "outputs": [],
   "source": [
    "lcc = [csv_to_lc(\"lightcurves/\"+file) for file in os.listdir(\"lightcurves\")]"
   ]
  },
  {
   "cell_type": "code",
   "execution_count": 64,
   "id": "1ffdeb3f-69d7-4981-9f3c-fc56a7e63525",
   "metadata": {},
   "outputs": [
    {
     "data": {
      "application/vnd.jupyter.widget-view+json": {
       "model_id": "08a0366932b74938b429c165cb44c657",
       "version_major": 2,
       "version_minor": 0
      },
      "text/plain": [
       "BoundedIntText(value=0, description='Index:', layout=Layout(width='50%'), max=9)"
      ]
     },
     "metadata": {},
     "output_type": "display_data"
    },
    {
     "data": {
      "application/vnd.jupyter.widget-view+json": {
       "model_id": "7981d74433ed4c47935d6013a97aa721",
       "version_major": 2,
       "version_minor": 0
      },
      "text/plain": [
       "BoundedFloatText(value=4.368198550391359, description='Period:', layout=Layout(width='50%'), min=0.1, step=0.0…"
      ]
     },
     "metadata": {},
     "output_type": "display_data"
    },
    {
     "data": {
      "application/vnd.jupyter.widget-view+json": {
       "model_id": "9cdb872b27684930a4729382fe5e2185",
       "version_major": 2,
       "version_minor": 0
      },
      "text/plain": [
       "HBox(children=(Button(description='period /2', style=ButtonStyle(), tooltip='period/2'), Button(description='p…"
      ]
     },
     "metadata": {},
     "output_type": "display_data"
    },
    {
     "data": {
      "application/vnd.jupyter.widget-view+json": {
       "model_id": "2119871b18b846baa64cd132d2efc246",
       "version_major": 2,
       "version_minor": 0
      },
      "text/plain": [
       "BoundedFloatText(value=1341.7865923252236, description='Epoch Time:', layout=Layout(width='50%'), max=1353.161…"
      ]
     },
     "metadata": {},
     "output_type": "display_data"
    },
    {
     "data": {
      "application/vnd.jupyter.widget-view+json": {
       "model_id": "86fb36006173417f9957e8ebed251317",
       "version_major": 2,
       "version_minor": 0
      },
      "text/plain": [
       "Output()"
      ]
     },
     "metadata": {},
     "output_type": "display_data"
    },
    {
     "data": {
      "application/vnd.jupyter.widget-view+json": {
       "model_id": "042925a1c5164a309f0229834b93a433",
       "version_major": 2,
       "version_minor": 0
      },
      "text/plain": [
       "Button(description='Save', style=ButtonStyle(), tooltip='Save')"
      ]
     },
     "metadata": {},
     "output_type": "display_data"
    }
   ],
   "source": [
    "from ipywidgets import interactive, widgets\n",
    "import matplotlib.pyplot as plt\n",
    "\n",
    "# elements\n",
    "## index in lcc\n",
    "a = widgets.BoundedIntText(\n",
    "    value=0,\n",
    "    min=0,\n",
    "    max=len(lcc)-1,\n",
    "    step=1,\n",
    "    description='Index:',\n",
    "    disabled=False,\n",
    "    layout=widgets.Layout(width='50%')\n",
    ")\n",
    "## period to fold on\n",
    "b = widgets.BoundedFloatText(\n",
    "    value=5,\n",
    "    min=0.1,\n",
    "    step=0.005,\n",
    "    description='Period:',\n",
    "    disabled=False,\n",
    "    layout=widgets.Layout(width='50%')\n",
    ")\n",
    "## halve the period\n",
    "half_button = widgets.Button(\n",
    "    description=f\"period /2\",\n",
    "    disabled=False,\n",
    "    button_style='',\n",
    "    tooltip=\"period/2\",\n",
    ")\n",
    "half_button.factor = 0.5  # giving these buttons a new attribute 'factor'\n",
    "## double the period\n",
    "double_button = widgets.Button(\n",
    "    description=f\"period x2\",\n",
    "    disabled=False,\n",
    "    button_style='',\n",
    "    tooltip=\"2*period\",\n",
    ")\n",
    "double_button.factor = 2\n",
    "## triple the period\n",
    "triple_button = widgets.Button(\n",
    "    description=f\"period x3\",\n",
    "    disabled=False,\n",
    "    button_style='',\n",
    "    tooltip=\"3*period\",\n",
    ")\n",
    "triple_button.factor = 3\n",
    "## change the center of the phase folded plot\n",
    "time_min = lcc[0].time[lcc[0].flux==lcc[0].flux.min()].value[0]\n",
    "c = widgets.BoundedFloatText(\n",
    "    value=time_min,\n",
    "    min=min(lcc[a.value].time.value),\n",
    "    max=max(lcc[a.value].time.value),\n",
    "    step=1,\n",
    "    description='Epoch Time:',\n",
    "    disabled=False,\n",
    "    layout=widgets.Layout(width='50%')\n",
    ")\n",
    "## save the plot and the folded light curve data\n",
    "save = widgets.Button(\n",
    "    description='Save',\n",
    "    disabled=False,\n",
    "    button_style='', # 'success', 'info', 'warning', 'danger' or ''\n",
    "    tooltip='Save',\n",
    ")\n",
    "\n",
    "# behaviors\n",
    "def f(index, period, center):\n",
    "    \"\"\"Updates plot on index, period, or center point changes\n",
    "    \"\"\"\n",
    "    lc = lcc[index]\n",
    "    folded_lc = lc.fold(period, normalize_phase=False, epoch_time=center)\n",
    "\n",
    "    fig, ax = plt.subplots(2, figsize=(10,4), tight_layout=True)\n",
    "    lc.scatter(ax=ax[0])\n",
    "    folded_lc.scatter(ax=ax[1], label=f\"Period: {period:.3f} d\");\n",
    "    plt.title(lc.label)\n",
    "    plt.show()\n",
    "    return fig\n",
    "\n",
    "\n",
    "def update_best_guess(*args):\n",
    "    \"\"\"Updates the period when the index changes\n",
    "    \n",
    "    Must be seperate from f() because f changes when the period\n",
    "    does, so b would constantly get changed back\n",
    "    \"\"\"\n",
    "    lc = lcc[a.value]\n",
    "    best_period = phasefolder.find_period(lc)\n",
    "    b.value = best_period\n",
    "\n",
    "\n",
    "def factor_button(button):\n",
    "    \"\"\"Multiplies the period by the factor of the button\n",
    "    \"\"\"\n",
    "    b.value = float(button.factor*b.value)\n",
    "\n",
    "\n",
    "def on_save_clicked(button):\n",
    "    \"\"\"Saves the plot and the folded light curve data\n",
    "    \"\"\"\n",
    "    label = lcc[a.value].label\n",
    "    fig = f(a.value, b.value, c.value)\n",
    "    fig.savefig(f\"{label}.png\")\n",
    "    folded_lc = lc.fold(b.value, normalize_phase=False)\n",
    "    folded_lc.to_csv(f\"{label}.csv\", overwrite=True);\n",
    "\n",
    "# linking\n",
    "a.observe(update_best_guess, 'value')\n",
    "half_button.on_click(factor_button)\n",
    "double_button.on_click(factor_button)\n",
    "triple_button.on_click(factor_button)\n",
    "save.on_click(on_save_clicked)\n",
    "\n",
    "# layout\n",
    "factors = widgets.HBox(\n",
    "    [half_button, double_button, triple_button],\n",
    "    layout=widgets.Layout(width='50%')\n",
    ")\n",
    "out = widgets.interactive_output(f, {'index': a, 'period': b, 'center': c})\n",
    "# initialize and display\n",
    "update_best_guess()\n",
    "display(a, b, factors, c, out, button)"
   ]
  },
  {
   "cell_type": "code",
   "execution_count": null,
   "id": "78e996d1-5b31-4d70-8483-af3e8aaaa093",
   "metadata": {},
   "outputs": [],
   "source": []
  }
 ],
 "metadata": {
  "environment": {
   "name": "common-cpu.m75",
   "type": "gcloud",
   "uri": "gcr.io/deeplearning-platform-release/base-cpu:m75"
  },
  "kernelspec": {
   "display_name": "Python [conda env:spocc]",
   "language": "python",
   "name": "conda-env-spocc-py"
  },
  "language_info": {
   "codemirror_mode": {
    "name": "ipython",
    "version": 3
   },
   "file_extension": ".py",
   "mimetype": "text/x-python",
   "name": "python",
   "nbconvert_exporter": "python",
   "pygments_lexer": "ipython3",
   "version": "3.6.13"
  }
 },
 "nbformat": 4,
 "nbformat_minor": 5
}
