{
 "cells": [
  {
   "cell_type": "code",
   "execution_count": 1,
   "id": "08f6b267-c9d5-4ead-8c3c-544a89f5287a",
   "metadata": {},
   "outputs": [],
   "source": [
    "import lightkurve as lk\n",
    "import pandas as pd\n",
    "import phasefolder\n",
    "import os\n",
    "\n",
    "%load_ext autoreload\n",
    "%autoreload 2"
   ]
  },
  {
   "cell_type": "code",
   "execution_count": 23,
   "id": "c6c734ab-774e-425b-b9f2-e50a87f54493",
   "metadata": {
    "tags": []
   },
   "outputs": [],
   "source": [
    "def csv_to_lc(file):\n",
    "    lcdata = pd.read_csv(file)\n",
    "    lc = lk.LightCurve(time=lcdata.time, \n",
    "                       flux=lcdata.flux,\n",
    "                       flux_err=lcdata.flux_err,\n",
    "                       quality=lcdata.quality,\n",
    "                       label=file.split(\"/\")[-1].split(\".csv\")[0])\n",
    "    return lc"
   ]
  },
  {
   "cell_type": "code",
   "execution_count": 24,
   "id": "0d1dc0c7-dec4-40e2-9179-37ee001e7e3e",
   "metadata": {
    "tags": []
   },
   "outputs": [],
   "source": [
    "lcc = [csv_to_lc(\"lightcurves/\"+file) for file in os.listdir(\"lightcurves\")]"
   ]
  },
  {
   "cell_type": "code",
   "execution_count": 28,
   "id": "1ffdeb3f-69d7-4981-9f3c-fc56a7e63525",
   "metadata": {},
   "outputs": [
    {
     "data": {
      "application/vnd.jupyter.widget-view+json": {
       "model_id": "76dc3ed16f214bb6803a398128d04cc2",
       "version_major": 2,
       "version_minor": 0
      },
      "text/plain": [
       "BoundedIntText(value=0, description='Index:', max=10)"
      ]
     },
     "metadata": {},
     "output_type": "display_data"
    },
    {
     "data": {
      "application/vnd.jupyter.widget-view+json": {
       "model_id": "d4e4ea85636149308e4f2a632930a68b",
       "version_major": 2,
       "version_minor": 0
      },
      "text/plain": [
       "BoundedFloatText(value=2.187303177812704, description='Period:', max=15.0, min=0.1, step=0.005)"
      ]
     },
     "metadata": {},
     "output_type": "display_data"
    },
    {
     "data": {
      "application/vnd.jupyter.widget-view+json": {
       "model_id": "4e2d362cb2344079805f491e4db8a5e3",
       "version_major": 2,
       "version_minor": 0
      },
      "text/plain": [
       "Dropdown(description='Factor:', index=1, options=('0.5', '2', '3'), value='2')"
      ]
     },
     "metadata": {},
     "output_type": "display_data"
    },
    {
     "data": {
      "application/vnd.jupyter.widget-view+json": {
       "model_id": "ebc98d190cf44dcca9dfd82b5b932dbb",
       "version_major": 2,
       "version_minor": 0
      },
      "text/plain": [
       "Button(description='4.374606355625408', style=ButtonStyle(), tooltip='factor*period')"
      ]
     },
     "metadata": {},
     "output_type": "display_data"
    },
    {
     "data": {
      "application/vnd.jupyter.widget-view+json": {
       "model_id": "54523c1fde0f4f5c907a6319441c7d53",
       "version_major": 2,
       "version_minor": 0
      },
      "text/plain": [
       "BoundedFloatText(value=1325.328073571648, description='Epoch Time:', max=1353.1615065093147, min=1325.32807357…"
      ]
     },
     "metadata": {},
     "output_type": "display_data"
    },
    {
     "data": {
      "application/vnd.jupyter.widget-view+json": {
       "model_id": "20a0966b84a046789c764ae15198679a",
       "version_major": 2,
       "version_minor": 0
      },
      "text/plain": [
       "Output()"
      ]
     },
     "metadata": {},
     "output_type": "display_data"
    },
    {
     "data": {
      "application/vnd.jupyter.widget-view+json": {
       "model_id": "042925a1c5164a309f0229834b93a433",
       "version_major": 2,
       "version_minor": 0
      },
      "text/plain": [
       "Button(description='Save', style=ButtonStyle(), tooltip='Save')"
      ]
     },
     "metadata": {},
     "output_type": "display_data"
    }
   ],
   "source": [
    "from ipywidgets import interactive, widgets\n",
    "import matplotlib.pyplot as plt\n",
    "def f(a, b, c):\n",
    "    lc = lcc[a]\n",
    "    # best_period = fold(lc)\n",
    "    folded_lc = lc.fold(b, normalize_phase=False, epoch_time=c)\n",
    "\n",
    "    fig, ax = plt.subplots(2, figsize=(10,4), tight_layout=True)\n",
    "    lc.scatter(ax=ax[0])\n",
    "    folded_lc.scatter(ax=ax[1], label=f\"Period: {b:.3f} d\");\n",
    "    plt.title(lc.label)\n",
    "    plt.show()\n",
    "    return fig\n",
    "\n",
    "def update_best_guess(*args):\n",
    "    lc = lcc[a.value]\n",
    "    best_period = phasefolder.find_period(lc)\n",
    "    b.value = best_period\n",
    "\n",
    "a = widgets.BoundedIntText(\n",
    "    value=0,\n",
    "    min=0,\n",
    "    max=len(lcc),\n",
    "    step=1,\n",
    "    description='Index:',\n",
    "    disabled=False\n",
    ")\n",
    "b = widgets.BoundedFloatText(\n",
    "    value=5,\n",
    "    min=0.1,\n",
    "    max=15,\n",
    "    step=0.005,\n",
    "    description='Period:',\n",
    "    disabled=False\n",
    ")\n",
    "c = widgets.BoundedFloatText(\n",
    "    value=min(lcc[a.value].time.value),\n",
    "    min=min(lcc[a.value].time.value),\n",
    "    max=max(lcc[a.value].time.value),\n",
    "    step=1,\n",
    "    description='Epoch Time:',\n",
    "    disabled=False\n",
    ")\n",
    "d = widgets.Dropdown(\n",
    "    options=['0.5', '2', '3'],\n",
    "    value='0.5',\n",
    "    description='Factor:',\n",
    "    disabled=False,\n",
    ")\n",
    "button = widgets.Button(\n",
    "    description='Save',\n",
    "    disabled=False,\n",
    "    button_style='', # 'success', 'info', 'warning', 'danger' or ''\n",
    "    tooltip='Save',\n",
    ")\n",
    "e = widgets.Button(\n",
    "    description=str(float(d.value)*b.value),\n",
    "    disabled=False,\n",
    "    button_style='',\n",
    "    tooltip=\"factor*period\"\n",
    ")\n",
    "\n",
    "def on_button_clicked(button):\n",
    "    label = lcc[a.value].label\n",
    "    fig = f(a.value, b.value, c.value)\n",
    "    fig.savefig(f\"{label}.png\")\n",
    "    folded_lc = lc.fold(b.value, normalize_phase=False)\n",
    "    folded_lc.to_csv(f\"{label}.csv\", overwrite=True);\n",
    "\n",
    "def on_period_change(change):\n",
    "    new_period = change.new\n",
    "    e.description = str(new_period*float(d.value))\n",
    "    \n",
    "def on_factor_change(change):\n",
    "    new_factor = change.new\n",
    "    e.description = str(b.value*float(new_factor))\n",
    "\n",
    "def factor_button(button):\n",
    "    b.value = float(e.description)\n",
    "    \n",
    "a.observe(update_best_guess, 'value')\n",
    "b.observe(on_period_change, 'value')\n",
    "d.observe(on_factor_change, 'value')\n",
    "update_best_guess()\n",
    "d.value = '2'\n",
    "button.on_click(on_button_clicked)\n",
    "e.on_click(factor_button)\n",
    "out = widgets.interactive_output(f, {'a': a, 'b': b, 'c': c})\n",
    "\n",
    "display(a, b, d, e, c, out, button)"
   ]
  },
  {
   "cell_type": "code",
   "execution_count": 29,
   "id": "9fe8ed28-d4c3-43c6-88b2-706ed23cc537",
   "metadata": {
    "tags": []
   },
   "outputs": [],
   "source": [
    "pg = lcc[1].to_periodogram(method=\"BoxLeastSquares\")"
   ]
  },
  {
   "cell_type": "code",
   "execution_count": 30,
   "id": "e4aad08a-0541-4fb0-be42-c47c13b4cd34",
   "metadata": {
    "tags": []
   },
   "outputs": [
    {
     "data": {
      "text/latex": [
       "$4.7813082 \\; \\mathrm{d}$"
      ],
      "text/plain": [
       "<Quantity 4.78130818 d>"
      ]
     },
     "execution_count": 30,
     "metadata": {},
     "output_type": "execute_result"
    }
   ],
   "source": [
    "pg.period_at_max_power"
   ]
  },
  {
   "cell_type": "code",
   "execution_count": null,
   "id": "c126a92a-9a71-494b-9bbf-34e09318d17a",
   "metadata": {},
   "outputs": [],
   "source": []
  }
 ],
 "metadata": {
  "environment": {
   "name": "common-cpu.m75",
   "type": "gcloud",
   "uri": "gcr.io/deeplearning-platform-release/base-cpu:m75"
  },
  "kernelspec": {
   "display_name": "Python [conda env:spocc]",
   "language": "python",
   "name": "conda-env-spocc-py"
  },
  "language_info": {
   "codemirror_mode": {
    "name": "ipython",
    "version": 3
   },
   "file_extension": ".py",
   "mimetype": "text/x-python",
   "name": "python",
   "nbconvert_exporter": "python",
   "pygments_lexer": "ipython3",
   "version": "3.6.13"
  }
 },
 "nbformat": 4,
 "nbformat_minor": 5
}
