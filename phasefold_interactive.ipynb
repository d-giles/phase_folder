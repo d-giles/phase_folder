{
 "cells": [
  {
   "cell_type": "code",
   "execution_count": 1,
   "id": "08f6b267-c9d5-4ead-8c3c-544a89f5287a",
   "metadata": {},
   "outputs": [],
   "source": [
    "from phasefolder import phasefolder\n",
    "\n",
    "%load_ext autoreload\n",
    "%autoreload 2"
   ]
  },
  {
   "cell_type": "code",
   "execution_count": 2,
   "id": "c6c734ab-774e-425b-b9f2-e50a87f54493",
   "metadata": {
    "tags": []
   },
   "outputs": [],
   "source": [
    "lcc = phasefolder.example_lcc()"
   ]
  },
  {
   "cell_type": "code",
   "execution_count": 5,
   "id": "92d82593-a3d6-416d-9c04-721cbb55bb61",
   "metadata": {
    "tags": []
   },
   "outputs": [
    {
     "data": {
      "application/vnd.jupyter.widget-view+json": {
       "model_id": "ae9e95dfaf2d4b7485a788e8391a6892",
       "version_major": 2,
       "version_minor": 0
      },
      "text/plain": [
       "BoundedIntText(value=0, description='Index:', layout=Layout(width='50%'), max=9)"
      ]
     },
     "metadata": {},
     "output_type": "display_data"
    },
    {
     "data": {
      "application/vnd.jupyter.widget-view+json": {
       "model_id": "331b81744b5d4ee481a26f00ddcd73b6",
       "version_major": 2,
       "version_minor": 0
      },
      "text/plain": [
       "BoundedFloatText(value=4.3685650205567415, description='Period:', layout=Layout(width='50%'), min=0.1, step=0.…"
      ]
     },
     "metadata": {},
     "output_type": "display_data"
    },
    {
     "data": {
      "application/vnd.jupyter.widget-view+json": {
       "model_id": "ebb38f419e6f4977bc9c082b7755edaa",
       "version_major": 2,
       "version_minor": 0
      },
      "text/plain": [
       "HBox(children=(Button(description='period /2', style=ButtonStyle(), tooltip='period/2'), Button(description='p…"
      ]
     },
     "metadata": {},
     "output_type": "display_data"
    },
    {
     "data": {
      "application/vnd.jupyter.widget-view+json": {
       "model_id": "bea5fcddd51744aaaa64b27499eb4d18",
       "version_major": 2,
       "version_minor": 0
      },
      "text/plain": [
       "BoundedFloatText(value=1341.7865923252236, description='Epoch Time:', layout=Layout(width='50%'), max=1353.161…"
      ]
     },
     "metadata": {},
     "output_type": "display_data"
    },
    {
     "data": {
      "application/vnd.jupyter.widget-view+json": {
       "model_id": "ada9fdccce5f4834befb9d449a4fca52",
       "version_major": 2,
       "version_minor": 0
      },
      "text/plain": [
       "Output()"
      ]
     },
     "metadata": {},
     "output_type": "display_data"
    },
    {
     "data": {
      "application/vnd.jupyter.widget-view+json": {
       "model_id": "5624e8ddf88049ffaf81e44547f19408",
       "version_major": 2,
       "version_minor": 0
      },
      "text/plain": [
       "Button(description='Save', style=ButtonStyle(), tooltip='Save')"
      ]
     },
     "metadata": {},
     "output_type": "display_data"
    }
   ],
   "source": [
    "phasefolder.notebook_interact(lcc, method=\"BoxLeastSquares\")"
   ]
  },
  {
   "cell_type": "code",
   "execution_count": null,
   "id": "78e996d1-5b31-4d70-8483-af3e8aaaa093",
   "metadata": {},
   "outputs": [],
   "source": []
  }
 ],
 "metadata": {
  "environment": {
   "name": "common-cpu.m75",
   "type": "gcloud",
   "uri": "gcr.io/deeplearning-platform-release/base-cpu:m75"
  },
  "kernelspec": {
   "display_name": "Python [conda env:spocc]",
   "language": "python",
   "name": "conda-env-spocc-py"
  },
  "language_info": {
   "codemirror_mode": {
    "name": "ipython",
    "version": 3
   },
   "file_extension": ".py",
   "mimetype": "text/x-python",
   "name": "python",
   "nbconvert_exporter": "python",
   "pygments_lexer": "ipython3",
   "version": "3.6.13"
  }
 },
 "nbformat": 4,
 "nbformat_minor": 5
}
